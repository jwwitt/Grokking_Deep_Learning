{
 "cells": [
  {
   "cell_type": "markdown",
   "metadata": {},
   "source": [
    "# Deep Learning"
   ]
  },
  {
   "cell_type": "markdown",
   "metadata": {},
   "source": [
    "### Chapter 2: Fundamental Concepts"
   ]
  },
  {
   "cell_type": "markdown",
   "metadata": {},
   "source": [
    "#### What is Deep Learning?"
   ]
  },
  {
   "cell_type": "markdown",
   "metadata": {},
   "source": [
    "Deep Learning is a subset of Machine Learning. It is used to solve tasks such as Computer Vision, Natural Language Processing, and Automatic Speech Recognition. Deep Learning largely leverages *Artificial Neural Networks*, a class of algorithms loosely inspired by the human brain."
   ]
  },
  {
   "cell_type": "markdown",
   "metadata": {},
   "source": [
    "#### What is Machine Learning?"
   ]
  },
  {
   "cell_type": "markdown",
   "metadata": {},
   "source": [
    ">\"A field of study that gives computers the ability to learn without being explicitly programmed\"<br>\n",
    "> -Arthur Samuel"
   ]
  },
  {
   "cell_type": "markdown",
   "metadata": {},
   "source": [
    "Machine learning is where machines observe a pattern and attempt to imitate the pattern, either directly or indirectly.<br>\n",
    "Examples:\n",
    "* Using the **pixels** of an image to detect the *presence or absence of a cat*\n",
    "* Using the **movies you've liked** to predict *movies you may like*\n",
    "* Using someone's **words** to predict whether they are *happy or sad*\n",
    "* Using weather sensor **data** to predict the *probability of rain*\n",
    "* Using car engine **sensors** to predict the optimal tuning *settings*\n",
    "* Using news **data** to predict tomorrow's *stock price*\n",
    "* Using an input **number** to predict a *number* double its size\n",
    "* Using a raw **audio file** to predict a *transcript* of the audio"
   ]
  },
  {
   "cell_type": "markdown",
   "metadata": {},
   "source": [
    "#### Supervised Machine Learning"
   ]
  },
  {
   "cell_type": "markdown",
   "metadata": {},
   "source": [
    "Supervised Learning is a method for transforming one dataset into another. For example, using a dataset of Monday's stock prices over a time period to predict the stock price on Tuesday. Simply put, Supervised Learning is taking *what we do know* as input and quickly transforming it into **what we want to know**."
   ]
  },
  {
   "cell_type": "markdown",
   "metadata": {},
   "source": [
    "#### Unsupervised Machine Learning"
   ]
  },
  {
   "cell_type": "markdown",
   "metadata": {},
   "source": [
    "Unsupervised Learning groups data. Unsupervised Learning transforms data into a dataset that is not previously known or understood. There is no \"right answer\" that we are looking for and trying to duplicate. An example of Unsupervised Learning is \"Clustering\", which transforms a dataset into a sequence of *cluster labels*."
   ]
  },
  {
   "cell_type": "markdown",
   "metadata": {},
   "source": [
    "#### Parametric vs Non-Parametric Learning"
   ]
  },
  {
   "cell_type": "markdown",
   "metadata": {},
   "source": [
    "**Oversimplified:** Trial and error learning versus counting and probability"
   ]
  },
  {
   "cell_type": "markdown",
   "metadata": {},
   "source": [
    "A parametric model is characterized by having a fixed number of parameters whereas a non-parametric model's number of parameters is infinite (determined by data)."
   ]
  },
  {
   "cell_type": "markdown",
   "metadata": {},
   "source": [
    "#### Supervised Parametric Learning"
   ]
  },
  {
   "cell_type": "markdown",
   "metadata": {},
   "source": [
    "**Oversimplified:** Trial and error learning using knobs"
   ]
  },
  {
   "cell_type": "markdown",
   "metadata": {},
   "source": [
    "Supervised parametric learning machines are machines with a fixed number of knobs, where learning occurs by turning the knobs. Data is input inot the machine, processed based on the knobs, and transformed into a prediction. This can be thought of as a search algorithm. We are \"searching\" for the appropriate knob configuration by trying different configurations and adjusting them."
   ]
  },
  {
   "cell_type": "markdown",
   "metadata": {},
   "source": [
    "**Step 1: Predict**<br>\n",
    "**Step 2: Compare Truth to Pattern**<br>\n",
    "**Step 3: Learn the Pattern**<br>"
   ]
  },
  {
   "cell_type": "markdown",
   "metadata": {},
   "source": [
    "#### Unsupervised Parametric Learning"
   ]
  },
  {
   "cell_type": "markdown",
   "metadata": {},
   "source": [
    "Unsupervised parametric data uses knobs to group the data. There are typically several knobs for each group that map a data's affinity for a particular group."
   ]
  },
  {
   "cell_type": "markdown",
   "metadata": {},
   "source": [
    "#### Conclusion"
   ]
  },
  {
   "cell_type": "markdown",
   "metadata": {},
   "source": [
    "Deep Learning is Parametric. It leverages Neural Networks to perform both supervised and unsupervised prediction. "
   ]
  }
 ],
 "metadata": {
  "kernelspec": {
   "display_name": "Python 3",
   "language": "python",
   "name": "python3"
  },
  "language_info": {
   "codemirror_mode": {
    "name": "ipython",
    "version": 3
   },
   "file_extension": ".py",
   "mimetype": "text/x-python",
   "name": "python",
   "nbconvert_exporter": "python",
   "pygments_lexer": "ipython3",
   "version": "3.7.6"
  }
 },
 "nbformat": 4,
 "nbformat_minor": 4
}
